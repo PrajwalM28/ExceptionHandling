{
 "cells": [
  {
   "cell_type": "markdown",
   "id": "755269f5-3048-41cd-97c3-ed7d9db00614",
   "metadata": {},
   "source": [
    "# Q1."
   ]
  },
  {
   "cell_type": "markdown",
   "id": "3915734a-ec93-4c5a-9e39-4fcf37c8b7ad",
   "metadata": {},
   "source": [
    "- An exception in Python is an event that occurs during the execution of a program that disrupts the normal flow of instructions. \n",
    "\n",
    "Differences : \n",
    "\n",
    "- Exceptions: These are runtime errors that occur during the execution of a program. Examples include division by zero, trying to access an index that does not exist in a list, etc.\n",
    "\n",
    "- Syntax Errors: These are errors that occur when you violate the syntax rules of Python. The program will not run and will display a syntax error message."
   ]
  },
  {
   "cell_type": "markdown",
   "id": "d79dd562-2537-42bf-861f-f944b69e20a8",
   "metadata": {},
   "source": [
    "# Q2."
   ]
  },
  {
   "cell_type": "markdown",
   "id": "48b8842d-78ae-4dac-b866-269254440ff6",
   "metadata": {},
   "source": [
    "- When an exception is not handled, it propagates up the call stack until it reaches the top-level of the program, causing the program to terminate."
   ]
  },
  {
   "cell_type": "code",
   "execution_count": 1,
   "id": "8169ef2f-9528-460a-8834-4973957d4dfa",
   "metadata": {},
   "outputs": [
    {
     "ename": "ZeroDivisionError",
     "evalue": "division by zero",
     "output_type": "error",
     "traceback": [
      "\u001b[0;31m---------------------------------------------------------------------------\u001b[0m",
      "\u001b[0;31mZeroDivisionError\u001b[0m                         Traceback (most recent call last)",
      "Cell \u001b[0;32mIn[1], line 4\u001b[0m\n\u001b[1;32m      1\u001b[0m \u001b[38;5;28;01mdef\u001b[39;00m \u001b[38;5;21mdivide_numbers\u001b[39m(a, b):\n\u001b[1;32m      2\u001b[0m     \u001b[38;5;28;01mreturn\u001b[39;00m a \u001b[38;5;241m/\u001b[39m b\n\u001b[0;32m----> 4\u001b[0m result \u001b[38;5;241m=\u001b[39m \u001b[43mdivide_numbers\u001b[49m\u001b[43m(\u001b[49m\u001b[38;5;241;43m10\u001b[39;49m\u001b[43m,\u001b[49m\u001b[43m \u001b[49m\u001b[38;5;241;43m0\u001b[39;49m\u001b[43m)\u001b[49m\n",
      "Cell \u001b[0;32mIn[1], line 2\u001b[0m, in \u001b[0;36mdivide_numbers\u001b[0;34m(a, b)\u001b[0m\n\u001b[1;32m      1\u001b[0m \u001b[38;5;28;01mdef\u001b[39;00m \u001b[38;5;21mdivide_numbers\u001b[39m(a, b):\n\u001b[0;32m----> 2\u001b[0m     \u001b[38;5;28;01mreturn\u001b[39;00m \u001b[43ma\u001b[49m\u001b[43m \u001b[49m\u001b[38;5;241;43m/\u001b[39;49m\u001b[43m \u001b[49m\u001b[43mb\u001b[49m\n",
      "\u001b[0;31mZeroDivisionError\u001b[0m: division by zero"
     ]
    }
   ],
   "source": [
    "def divide_numbers(a, b):\n",
    "    return a / b\n",
    "\n",
    "result = divide_numbers(10, 0)"
   ]
  },
  {
   "cell_type": "markdown",
   "id": "9294818c-cf30-4159-870e-3c52f39a68a9",
   "metadata": {},
   "source": [
    "# Q3."
   ]
  },
  {
   "cell_type": "markdown",
   "id": "02384df0-a31f-47af-a58e-d65cfc14d51b",
   "metadata": {},
   "source": [
    "- try , except , finally , else and raise."
   ]
  },
  {
   "cell_type": "code",
   "execution_count": 2,
   "id": "dc6c0a6d-1f14-4867-91b1-b1e3fe64d5cb",
   "metadata": {},
   "outputs": [
    {
     "name": "stdout",
     "output_type": "stream",
     "text": [
      "Cannot divide by zero!\n",
      "This will always run.\n"
     ]
    }
   ],
   "source": [
    "try:\n",
    "    result = 10 / 0\n",
    "except ZeroDivisionError:\n",
    "    print(\"Cannot divide by zero!\")\n",
    "except Exception as e:\n",
    "    print(f\"An error occurred: {e}\")\n",
    "else:\n",
    "    print(\"Division successful.\")\n",
    "finally:\n",
    "    print(\"This will always run.\")"
   ]
  },
  {
   "cell_type": "markdown",
   "id": "631c8330-7e60-44df-b8a9-40a1b5a4d5dc",
   "metadata": {},
   "source": [
    "# Q4."
   ]
  },
  {
   "cell_type": "code",
   "execution_count": 3,
   "id": "f9e52da4-0a88-43c2-9618-1da067a498d1",
   "metadata": {},
   "outputs": [
    {
     "name": "stdout",
     "output_type": "stream",
     "text": [
      "The result is: 5.0\n",
      "This will always run.\n",
      "Cannot divide by zero!\n",
      "This will always run.\n"
     ]
    }
   ],
   "source": [
    "def divide_numbers(a, b):\n",
    "    try:\n",
    "        result = a / b\n",
    "    except ZeroDivisionError:\n",
    "        print(\"Cannot divide by zero!\")\n",
    "    else:\n",
    "        print(f\"The result is: {result}\")\n",
    "    finally:\n",
    "        print(\"This will always run.\")\n",
    "\n",
    "divide_numbers(10, 2)\n",
    "divide_numbers(10, 0)"
   ]
  },
  {
   "cell_type": "markdown",
   "id": "3a7f9d34-9128-4f37-a519-b954ea8af9fc",
   "metadata": {},
   "source": [
    "- the try block attempts to perform the division, the except block handles the ZeroDivisionError, the else block executes if no exception occurs, and the finally block always runs, regardless of whether an exception occurred or not."
   ]
  },
  {
   "cell_type": "markdown",
   "id": "37f5b1c6-34e9-475d-9dd6-7a45d77f71f7",
   "metadata": {},
   "source": [
    "# Q5."
   ]
  },
  {
   "cell_type": "markdown",
   "id": "8d6b4e2f-8921-4150-bcab-ac9fb2259203",
   "metadata": {},
   "source": [
    "- Custom exceptions in Python are user-defined exceptions that allow you to create your own error types. "
   ]
  },
  {
   "cell_type": "code",
   "execution_count": 4,
   "id": "287b4843-6643-4ab3-a701-680b89c7c2d3",
   "metadata": {},
   "outputs": [
    {
     "name": "stdout",
     "output_type": "stream",
     "text": [
      "Caught an exception: This is a custom exception.\n"
     ]
    }
   ],
   "source": [
    "class CustomError(Exception):\n",
    "    def __init__(self, message=\"Custom error occurred\"):\n",
    "        self.message = message\n",
    "        super().__init__(self.message)\n",
    "\n",
    "try:\n",
    "    raise CustomError(\"This is a custom exception.\")\n",
    "except CustomError as ce:\n",
    "    print(f\"Caught an exception: {ce}\")"
   ]
  },
  {
   "cell_type": "markdown",
   "id": "af1923fd-c2df-467f-9f38-f91545132ed8",
   "metadata": {},
   "source": [
    "# Q6."
   ]
  },
  {
   "cell_type": "code",
   "execution_count": 5,
   "id": "87a60923-9111-40fe-9ae8-96477066ab82",
   "metadata": {},
   "outputs": [
    {
     "name": "stdout",
     "output_type": "stream",
     "text": [
      "Caught an exception: Value should be non-negative.\n"
     ]
    }
   ],
   "source": [
    "class MyCustomException(Exception):\n",
    "    def __init__(self, message=\"My custom exception\"):\n",
    "        self.message = message\n",
    "        super().__init__(self.message)\n",
    "\n",
    "def example_function(value):\n",
    "    if value < 0:\n",
    "        raise MyCustomException(\"Value should be non-negative.\")\n",
    "    else:\n",
    "        print(f\"The value is: {value}\")\n",
    "\n",
    "try:\n",
    "    example_function(-5)\n",
    "except MyCustomException as mce:\n",
    "    print(f\"Caught an exception: {mce}\")"
   ]
  }
 ],
 "metadata": {
  "kernelspec": {
   "display_name": "Python 3 (ipykernel)",
   "language": "python",
   "name": "python3"
  },
  "language_info": {
   "codemirror_mode": {
    "name": "ipython",
    "version": 3
   },
   "file_extension": ".py",
   "mimetype": "text/x-python",
   "name": "python",
   "nbconvert_exporter": "python",
   "pygments_lexer": "ipython3",
   "version": "3.10.8"
  }
 },
 "nbformat": 4,
 "nbformat_minor": 5
}
